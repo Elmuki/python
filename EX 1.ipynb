{
 "cells": [
  {
   "cell_type": "code",
   "execution_count": 19,
   "id": "05d347b7",
   "metadata": {},
   "outputs": [],
   "source": [
    "def string_operation():\n",
    "    print(\"\\n STRING OPERATION:\")\n",
    "    string=\"hello,python!\"\n",
    "    print(\"ORGINAL STRING:\",string)\n",
    "    print(\"UPPERCASE:\",string.upper())\n",
    "    print(\"LOWERCASE:\",string.lower())\n",
    "    print(\"SPLIT:\",string.split(\",\"))\n",
    "    print(\"REPLACE 'python' WITH 'world':\",string.replace(\"python\",\"world\"))\n",
    "        "
   ]
  },
  {
   "cell_type": "code",
   "execution_count": 19,
   "id": "6f572374",
   "metadata": {},
   "outputs": [],
   "source": [
    "def string_operation():\n",
    "    print(\"\\n STRING OPERATION:\")\n",
    "    string=\"hello,python!\"\n",
    "    print(\"ORGINAL STRING:\",string)\n",
    "    print(\"UPPERCASE:\",string.upper())\n",
    "    print(\"LOWERCASE:\",string.lower())\n",
    "    print(\"SPLIT:\",string.split(\",\"))\n",
    "    print(\"REPLACE 'python' WITH 'world':\",string.replace(\"python\",\"world\"))\n",
    "        "
   ]
  },
  {
   "cell_type": "code",
   "execution_count": 41,
   "id": "ca424a8c",
   "metadata": {},
   "outputs": [],
   "source": [
    "def list_operation():\n",
    "    print(\"\\n LIST_OPERATION8:\")\n",
    "    lst=[1,2,3,4,5]\n",
    "    print(\"orginal list :\",lst)\n",
    "    lst.append(6)\n",
    "    print(\"after appending 6:\",lst)\n",
    "    lst.remove(2)\n",
    "    print(\"after removing 2:\",lst)\n",
    "    lst.reverse()\n",
    "    print(\"reversed list:\",lst)\n",
    "    print(\"length of list:\",len(lst))\n",
    "    "
   ]
  },
  {
   "cell_type": "code",
   "execution_count": 42,
   "id": "b72df205",
   "metadata": {},
   "outputs": [],
   "source": [
    "def set_operation():\n",
    "    print(\"\\n SET OPERATION:\")\n",
    "    set1={1,2,3,4}\n",
    "    set2={3,4,5,6}\n",
    "    print(\"set 1:\",set1)\n",
    "    print(\"set 2:\",set2)\n",
    "    print(\"Union:\",set1| set2)\n",
    "    print(\"Intersection:\",set1&set2)\n",
    "    print(\"Difference(set 1- set 2):\",set1-set2)\n",
    "    print(\"Is set1 a subset of subset 2?:\", set1.issubset (set2))\n",
    "    \n",
    "    "
   ]
  },
  {
   "cell_type": "code",
   "execution_count": 43,
   "id": "20aa008a",
   "metadata": {},
   "outputs": [],
   "source": [
    "def tuple_operation():\n",
    "    print(\"\\n TUPLE OPERATION:\")\n",
    "    tup=(10,20,30,40)\n",
    "    print(\"orginal tuple:\",tup)\n",
    "    print(\"first element:\",tup[0])\n",
    "    print(\"sliced tuple (1:3):\",tup[1:3])\n",
    "    print(\"length of  tuple:\",len(tup))\n",
    "    print(\"does 20 exists in tuple?\",20 in tup)"
   ]
  },
  {
   "cell_type": "code",
   "execution_count": 44,
   "id": "77a6cfa2",
   "metadata": {},
   "outputs": [
    {
     "name": "stdout",
     "output_type": "stream",
     "text": [
      "\n",
      " STRING OPERATION:\n",
      "ORGINAL STRING: hello,python!\n",
      "UPPERCASE: HELLO,PYTHON!\n",
      "LOWERCASE: hello,python!\n",
      "SPLIT: ['hello', 'python!']\n",
      "REPLACE 'python' WITH 'world': hello,world!\n",
      "\n",
      " LIST_OPERATION:\n",
      "orginal list : [1, 2, 3, 4, 5]\n",
      "after appending 6: [1, 2, 3, 4, 5, 6]\n",
      "after removing 2: [1, 3, 4, 5, 6]\n",
      "reversed list: [6, 5, 4, 3, 1]\n",
      "length of list: 5\n",
      "\n",
      " SET OPERATION:\n",
      "set 1: {1, 2, 3, 4}\n",
      "set 2: {3, 4, 5, 6}\n",
      "Union: {1, 2, 3, 4, 5, 6}\n",
      "Intersection: {3, 4}\n",
      "Difference(set 1- set 2): {1, 2}\n",
      "Is set1 a subset of subset 2?: False\n",
      "\n",
      " TUPLE OPERATION:\n",
      "orginal tuple: (10, 20, 30, 40)\n",
      "first element: 10\n",
      "sliced tuple (1:3): (20, 30)\n",
      "length of  tuple: 4\n",
      "does 20 exists in tuple? True\n"
     ]
    }
   ],
   "source": [
    "\n",
    "    string_operation()\n",
    "    list_operation()\n",
    "    set_operation()\n",
    "    tuple_operation()\n",
    "    "
   ]
  },
  {
   "cell_type": "code",
   "execution_count": null,
   "id": "152fc214",
   "metadata": {},
   "outputs": [],
   "source": []
  }
 ],
 "metadata": {
  "kernelspec": {
   "display_name": "Python 3 (ipykernel)",
   "language": "python",
   "name": "python3"
  },
  "language_info": {
   "codemirror_mode": {
    "name": "ipython",
    "version": 3
   },
   "file_extension": ".py",
   "mimetype": "text/x-python",
   "name": "python",
   "nbconvert_exporter": "python",
   "pygments_lexer": "ipython3",
   "version": "3.9.7"
  }
 },
 "nbformat": 4,
 "nbformat_minor": 5
}
