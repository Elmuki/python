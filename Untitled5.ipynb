{
 "cells": [
  {
   "cell_type": "code",
   "execution_count": 10,
   "id": "7fc24456",
   "metadata": {},
   "outputs": [
    {
     "name": "stdout",
     "output_type": "stream",
     "text": [
      "[2, 9, 10, 11, 14, 15, 16, 17, 19, 25]\n",
      "enter the search element:11\n",
      "searched element not present in the database\n"
     ]
    },
    {
     "data": {
      "text/plain": [
       "1"
      ]
     },
     "execution_count": 10,
     "metadata": {},
     "output_type": "execute_result"
    }
   ],
   "source": [
    "data=[15,11,10,14,17,19,25,2,9,16]\n",
    "data.sort()\n",
    "print(data)\n",
    "elem=int(input(\"enter the search element:\"))\n",
    "def binary_search(data,elem):\n",
    "    low=0\n",
    "    high=len(data)-1\n",
    "    while low<=high:\n",
    "        middle=(low+high)//2\n",
    "        if data[middle]==elem:\n",
    "            print(f\"searched element{elem}present in the index of middle in the database\")\n",
    "            break\n",
    "        elif data[middle]>elem:\n",
    "                high=middle-1\n",
    "        else:\n",
    "                low=middle+1\n",
    "                if data[middle]!=elem:\n",
    "                    print(f\"searched element not present in the database\")\n",
    "                    return 1\n",
    "binary_search(data,elem)"
   ]
  },
  {
   "cell_type": "code",
   "execution_count": null,
   "id": "d2175580",
   "metadata": {},
   "outputs": [],
   "source": []
  },
  {
   "cell_type": "code",
   "execution_count": null,
   "id": "dd3117e9",
   "metadata": {},
   "outputs": [],
   "source": []
  }
 ],
 "metadata": {
  "kernelspec": {
   "display_name": "Python 3 (ipykernel)",
   "language": "python",
   "name": "python3"
  },
  "language_info": {
   "codemirror_mode": {
    "name": "ipython",
    "version": 3
   },
   "file_extension": ".py",
   "mimetype": "text/x-python",
   "name": "python",
   "nbconvert_exporter": "python",
   "pygments_lexer": "ipython3",
   "version": "3.9.7"
  }
 },
 "nbformat": 4,
 "nbformat_minor": 5
}
